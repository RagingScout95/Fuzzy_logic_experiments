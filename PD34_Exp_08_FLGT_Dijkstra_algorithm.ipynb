{
 "cells": [
  {
   "cell_type": "code",
   "execution_count": 71,
   "id": "4d81bcbc",
   "metadata": {},
   "outputs": [],
   "source": [
    "import networkx as nx\n",
    "import numpy as np\n",
    "import math"
   ]
  },
  {
   "cell_type": "code",
   "execution_count": 40,
   "id": "ffecf7b9",
   "metadata": {},
   "outputs": [
    {
     "data": {
      "text/plain": [
       "{('a', 'b'): Text(0.5, 1.5, '4'),\n",
       " ('a', 'c'): Text(0.5, 0.5, '3'),\n",
       " ('b', 'd'): Text(1.5, 2.0, '5'),\n",
       " ('b', 'c'): Text(1.0, 1.0, '2'),\n",
       " ('c', 'd'): Text(1.5, 1.0, '3'),\n",
       " ('c', 'e'): Text(1.5, 0.0, '6'),\n",
       " ('d', 'e'): Text(2.0, 1.0, '1'),\n",
       " ('d', 'f'): Text(2.5, 2.0, '5'),\n",
       " ('e', 'g'): Text(2.5, 0.0, '5'),\n",
       " ('f', 'g'): Text(3.0, 1.0, '2'),\n",
       " ('f', 'z'): Text(3.5, 1.5, '7'),\n",
       " ('g', 'z'): Text(3.5, 0.5, '4')}"
      ]
     },
     "execution_count": 40,
     "metadata": {},
     "output_type": "execute_result"
    },
    {
     "data": {
      "image/png": "[encoded data removed]",
      "text/plain": [
       "<Figure size 432x288 with 1 Axes>"
      ]
     },
     "metadata": {},
     "output_type": "display_data"
    }
   ],
   "source": [
    "G=nx.Graph()\n",
    "\n",
    "G.add_node('a',pos=(0,1))\n",
    "G.add_node('b',pos=(1,2))\n",
    "G.add_node('c',pos=(1,0))\n",
    "G.add_node('d',pos=(2,2))\n",
    "G.add_node('e',pos=(2,0))\n",
    "G.add_node('f',pos=(3,2))\n",
    "G.add_node('g',pos=(3,0))\n",
    "G.add_node('z',pos=(4,1))\n",
    "\n",
    "G.add_edge('a','b',weight=4)\n",
    "G.add_edge('a','c',weight=3)\n",
    "G.add_edge('b','d',weight=5)\n",
    "G.add_edge('b','c',weight=2)\n",
    "G.add_edge('c','d',weight=3)\n",
    "G.add_edge('c','e',weight=6)\n",
    "G.add_edge('d','e',weight=1)\n",
    "G.add_edge('d','f',weight=5)\n",
    "G.add_edge('e','g',weight=5)\n",
    "G.add_edge('f','g',weight=2)\n",
    "G.add_edge('f','z',weight=7)\n",
    "G.add_edge('g','z',weight=4)\n",
    "\n",
    "pos=nx.get_node_attributes(G,'pos')\n",
    "nx.draw_networkx(G,pos)\n",
    "labels = nx.get_edge_attributes(G,'weight')\n",
    "nx.draw_networkx_edge_labels(G,pos,edge_labels=labels)"
   ]
  },
  {
   "cell_type": "code",
   "execution_count": 67,
   "id": "1371a199",
   "metadata": {},
   "outputs": [
    {
     "name": "stdout",
     "output_type": "stream",
     "text": [
      "The Adjacency matrix : \n",
      "[[0 4 3 0 0 0 0 0]\n",
      " [4 0 2 5 0 0 0 0]\n",
      " [3 2 0 3 6 0 0 0]\n",
      " [0 5 3 0 1 5 0 0]\n",
      " [0 0 6 1 0 0 5 0]\n",
      " [0 0 0 5 0 0 2 7]\n",
      " [0 0 0 0 5 2 0 4]\n",
      " [0 0 0 0 0 7 4 0]]\n"
     ]
    }
   ],
   "source": [
    "A = nx.adjacency_matrix(G)\n",
    "print(\"The Adjacency matrix : \")\n",
    "g = np.array(A.todense())\n",
    "print(g)"
   ]
  },
  {
   "cell_type": "code",
   "execution_count": 74,
   "id": "f6280a99",
   "metadata": {},
   "outputs": [],
   "source": [
    "def selectMinVertex(dist,visi):\n",
    "    minimum = infi\n",
    "    for k in range(v):\n",
    "        if (visi[k]==0 and dist[i]<minimum):\n",
    "            vertex = i\n",
    "            minimum = dist[i]\n",
    "    return vertex"
   ]
  },
  {
   "cell_type": "code",
   "execution_count": 72,
   "id": "e3924fd8",
   "metadata": {},
   "outputs": [
    {
     "name": "stdout",
     "output_type": "stream",
     "text": [
      "The shortest distance between a and z is 16.0\n"
     ]
    }
   ],
   "source": [
    "infi = math.inf\n",
    "v = len(g) #finding no. of vertices\n",
    "parent = np.array([-1,-1,-1,-1,-1,-1,-1,-1])\n",
    "distance = np.array([infi,infi,infi,infi,infi,infi,infi,infi]) # infi means infinity\n",
    "visited = np.array([0,0,0,0,0,0,0,0]) # 0 : false and 1 : true\n",
    "\n",
    "#distance from source to source will be zero\n",
    "distance[0] = 0\n",
    "\n",
    "for i in range(v):\n",
    "    U = selectMinVertex(distance, visited)\n",
    "    visited[U] = 1\n",
    "    \n",
    "    for j in range(v):\n",
    "        if (g[U][j]!=0 and visited[j] == 0 and distance[U]!= infi and (distance[U] + g[U][j] < distance[j])):\n",
    "            distance[j]=distance[U] + g[U][j]\n",
    "            parent[j] = U;\n",
    "            \n",
    "print(\"The shortest distance between a and z is {}\".format(distance[-1]))"
   ]
  },
  {
   "cell_type": "code",
   "execution_count": 84,
   "id": "1f65d951",
   "metadata": {},
   "outputs": [
    {
     "data": {
      "text/plain": [
       "{('a', 'b'): Text(0.5, 0.5, '2'),\n",
       " ('a', 'd'): Text(0.5, -0.5, '1'),\n",
       " ('a', 'c'): Text(0.5, 0.0, '4'),\n",
       " ('b', 'c'): Text(1.0, 0.5, '3'),\n",
       " ('b', 'e'): Text(1.5, 1.0, '1'),\n",
       " ('c', 'e'): Text(1.5, 0.5, '2'),\n",
       " ('c', 'f'): Text(1.5, 0.0, '2'),\n",
       " ('d', 'f'): Text(1.5, -0.5, '5'),\n",
       " ('d', 'g'): Text(1.5, -1.0, '4'),\n",
       " ('e', 'h'): Text(2.5, 1.25, '3'),\n",
       " ('f', 'h'): Text(2.5, 0.75, '3'),\n",
       " ('f', 'i'): Text(2.5, 0.25, '2'),\n",
       " ('f', 'j'): Text(2.5, -0.25, '4'),\n",
       " ('f', 'g'): Text(2.0, -0.5, '3'),\n",
       " ('g', 'k'): Text(2.5, -1.25, '2'),\n",
       " ('h', 'o'): Text(4.0, 1.5, '8'),\n",
       " ('h', 'l'): Text(3.5, 1.25, '1'),\n",
       " ('i', 'l'): Text(3.5, 0.75, '3'),\n",
       " ('i', 'm'): Text(3.5, 0.25, '2'),\n",
       " ('i', 'j'): Text(3.0, 0.0, '3'),\n",
       " ('j', 'm'): Text(3.5, -0.25, '6'),\n",
       " ('j', 'n'): Text(3.5, -0.75, '3'),\n",
       " ('j', 'k'): Text(3.0, -1.0, '6'),\n",
       " ('k', 'n'): Text(3.5, -1.25, '4'),\n",
       " ('k', 'r'): Text(4.0, -1.5, '2'),\n",
       " ('l', 'o'): Text(4.5, 1.25, '6'),\n",
       " ('l', 'm'): Text(4.0, 0.5, '3'),\n",
       " ('m', 'o'): Text(4.5, 0.75, '4'),\n",
       " ('m', 'p'): Text(4.5, 0.25, '2'),\n",
       " ('m', 'n'): Text(4.0, -0.5, '5'),\n",
       " ('n', 'q'): Text(4.5, -0.75, '2'),\n",
       " ('n', 'r'): Text(4.5, -1.25, '1'),\n",
       " ('o', 's'): Text(5.5, 1.25, '6'),\n",
       " ('o', 'p'): Text(5.0, 1.0, '2'),\n",
       " ('p', 's'): Text(5.5, 0.75, '2'),\n",
       " ('p', 't'): Text(5.5, -0.25, '1'),\n",
       " ('p', 'q'): Text(5.0, 0.0, '1'),\n",
       " ('q', 't'): Text(5.5, -0.75, '3'),\n",
       " ('q', 'r'): Text(5.0, -1.0, '8'),\n",
       " ('r', 't'): Text(5.5, -1.25, '5'),\n",
       " ('s', 'z'): Text(6.5, 0.5, '2'),\n",
       " ('t', 'z'): Text(6.5, -0.5, '8')}"
      ]
     },
     "execution_count": 84,
     "metadata": {},
     "output_type": "execute_result"
    },
    {
     "data": {
      "image/png": "[encoded data removed]",
      "text/plain": [
       "<Figure size 432x288 with 1 Axes>"
      ]
     },
     "metadata": {},
     "output_type": "display_data"
    }
   ],
   "source": [
    "G=nx.Graph()\n",
    "\n",
    "G.add_node('a',pos=(0,0))\n",
    "G.add_node('b',pos=(1,1))\n",
    "G.add_node('c',pos=(1,0))\n",
    "G.add_node('d',pos=(1,-1))\n",
    "G.add_node('e',pos=(2,1))\n",
    "G.add_node('f',pos=(2,0))\n",
    "G.add_node('g',pos=(2,-1))\n",
    "G.add_node('h',pos=(3,1.5))\n",
    "G.add_node('i',pos=(3,0.5))\n",
    "G.add_node('j',pos=(3,-0.5))\n",
    "G.add_node('k',pos=(3,-1.5))\n",
    "G.add_node('l',pos=(4,1))\n",
    "G.add_node('m',pos=(4,0))\n",
    "G.add_node('n',pos=(4,-1))\n",
    "G.add_node('o',pos=(5,1.5))\n",
    "G.add_node('p',pos=(5,0.5))\n",
    "G.add_node('q',pos=(5,-0.5))\n",
    "G.add_node('r',pos=(5,-1.5))\n",
    "G.add_node('s',pos=(6,1))\n",
    "G.add_node('t',pos=(6,-1))\n",
    "G.add_node('z',pos=(7,0))\n",
    "\n",
    "G.add_edge('a','b',weight=2)\n",
    "G.add_edge('a','d',weight=1)\n",
    "G.add_edge('a','c',weight=4)\n",
    "\n",
    "G.add_edge('b','c',weight=3)\n",
    "G.add_edge('b','e',weight=1)\n",
    "\n",
    "G.add_edge('c','e',weight=2)\n",
    "G.add_edge('c','f',weight=2)\n",
    "\n",
    "\n",
    "G.add_edge('d','f',weight=5)\n",
    "G.add_edge('d','g',weight=4)\n",
    "\n",
    "G.add_edge('e','h',weight=3)\n",
    "\n",
    "G.add_edge('f','h',weight=3)\n",
    "G.add_edge('f','i',weight=2)\n",
    "G.add_edge('f','j',weight=4)\n",
    "G.add_edge('f','g',weight=3)\n",
    "\n",
    "G.add_edge('g','k',weight=2)\n",
    "\n",
    "G.add_edge('h','o',weight=8)\n",
    "G.add_edge('h','l',weight=1)\n",
    "\n",
    "G.add_edge('i','l',weight=3)\n",
    "G.add_edge('i','m',weight=2)\n",
    "G.add_edge('i','j',weight=3)\n",
    "\n",
    "G.add_edge('j','m',weight=6)\n",
    "G.add_edge('j','n',weight=3)\n",
    "G.add_edge('j','k',weight=6)\n",
    "\n",
    "G.add_edge('k','n',weight=4)\n",
    "G.add_edge('k','r',weight=2)\n",
    "\n",
    "G.add_edge('l','o',weight=6)\n",
    "G.add_edge('l','m',weight=3)\n",
    "\n",
    "G.add_edge('m','o',weight=4)\n",
    "G.add_edge('m','p',weight=2)\n",
    "G.add_edge('m','n',weight=5)\n",
    "\n",
    "G.add_edge('n','q',weight=2)\n",
    "G.add_edge('n','r',weight=1)\n",
    "\n",
    "G.add_edge('o','s',weight=6)\n",
    "G.add_edge('o','p',weight=2)\n",
    "\n",
    "G.add_edge('p','s',weight=2)\n",
    "G.add_edge('p','t',weight=1)\n",
    "G.add_edge('p','q',weight=1)\n",
    "\n",
    "G.add_edge('q','t',weight=3)\n",
    "G.add_edge('q','r',weight=8)\n",
    "\n",
    "G.add_edge('r','t',weight=5)\n",
    "\n",
    "G.add_edge('s','z',weight=2)\n",
    "\n",
    "G.add_edge('t','z',weight=8)\n",
    "           \n",
    "pos=nx.get_node_attributes(G,'pos')\n",
    "nx.draw_networkx(G,pos)\n",
    "labels = nx.get_edge_attributes(G,'weight')\n",
    "nx.draw_networkx_edge_labels(G,pos,edge_labels=labels)"
   ]
  },
  {
   "cell_type": "code",
   "execution_count": 85,
   "id": "9d5c5102",
   "metadata": {},
   "outputs": [
    {
     "name": "stdout",
     "output_type": "stream",
     "text": [
      "The Adjacency matrix : \n",
      "[[0 2 4 1 0 0 0 0 0 0 0 0 0 0 0 0 0 0 0 0 0]\n",
      " [2 0 3 0 1 0 0 0 0 0 0 0 0 0 0 0 0 0 0 0 0]\n",
      " [4 3 0 0 2 2 0 0 0 0 0 0 0 0 0 0 0 0 0 0 0]\n",
      " [1 0 0 0 0 5 4 0 0 0 0 0 0 0 0 0 0 0 0 0 0]\n",
      " [0 1 2 0 0 0 0 3 0 0 0 0 0 0 0 0 0 0 0 0 0]\n",
      " [0 0 2 5 0 0 3 3 2 4 0 0 0 0 0 0 0 0 0 0 0]\n",
      " [0 0 0 4 0 3 0 0 0 0 2 0 0 0 0 0 0 0 0 0 0]\n",
      " [0 0 0 0 3 3 0 0 0 0 0 1 0 0 8 0 0 0 0 0 0]\n",
      " [0 0 0 0 0 2 0 0 0 3 0 3 2 0 0 0 0 0 0 0 0]\n",
      " [0 0 0 0 0 4 0 0 3 0 6 0 6 3 0 0 0 0 0 0 0]\n",
      " [0 0 0 0 0 0 2 0 0 6 0 0 0 4 0 0 0 2 0 0 0]\n",
      " [0 0 0 0 0 0 0 1 3 0 0 0 3 0 6 0 0 0 0 0 0]\n",
      " [0 0 0 0 0 0 0 0 2 6 0 3 0 5 4 2 0 0 0 0 0]\n",
      " [0 0 0 0 0 0 0 0 0 3 4 0 5 0 0 0 2 1 0 0 0]\n",
      " [0 0 0 0 0 0 0 8 0 0 0 6 4 0 0 2 0 0 6 0 0]\n",
      " [0 0 0 0 0 0 0 0 0 0 0 0 2 0 2 0 1 0 2 1 0]\n",
      " [0 0 0 0 0 0 0 0 0 0 0 0 0 2 0 1 0 8 0 3 0]\n",
      " [0 0 0 0 0 0 0 0 0 0 2 0 0 1 0 0 8 0 0 5 0]\n",
      " [0 0 0 0 0 0 0 0 0 0 0 0 0 0 6 2 0 0 0 0 2]\n",
      " [0 0 0 0 0 0 0 0 0 0 0 0 0 0 0 1 3 5 0 0 8]\n",
      " [0 0 0 0 0 0 0 0 0 0 0 0 0 0 0 0 0 0 2 8 0]]\n"
     ]
    }
   ],
   "source": [
    "A = nx.adjacency_matrix(G)\n",
    "print(\"The Adjacency matrix : \")\n",
    "g = np.array(A.todense())\n",
    "print(g)"
   ]
  },
  {
   "cell_type": "code",
   "execution_count": 87,
   "id": "b0f96aef",
   "metadata": {},
   "outputs": [
    {
     "name": "stdout",
     "output_type": "stream",
     "text": [
      "The shortest distance between a and z is 16.0\n",
      "[ 0.  2.  4.  1.  3.  6.  5.  6.  8. 10.  7.  7. 10. 11. 13. 12. 13.  9.\n",
      " 14. 13. 16.]\n"
     ]
    }
   ],
   "source": [
    "nfi = math.inf\n",
    "v = len(g) #finding no. of vertices\n",
    "parent = np.array([-1,-1,-1,-1,-1,-1,-1,-1,-1,-1,-1,-1,-1,-1,-1,-1,-1,-1,-1,-1,-1,-1,-1,-1,-1,-1,-1,-1,-1])\n",
    "distance = np.array([infi,infi,infi,infi,infi,infi,infi,infi,infi,infi,infi,infi,infi,infi,infi,infi,infi,infi,infi,infi,infi]) # infi means infinity\n",
    "visited = np.array([0,0,0,0,0,0,0,0,0,0,0,0,0,0,0,0,0,0,0,0,0]) # 0 : false and 1 : true\n",
    "\n",
    "#distance from source to source will be zero\n",
    "distance[0] = 0\n",
    "\n",
    "for i in range(v):\n",
    "    U = selectMinVertex(distance, visited)\n",
    "    visited[U] = 1\n",
    "    \n",
    "    for j in range(v):\n",
    "        if (g[U][j]!=0 and visited[j] == 0 and distance[U]!= infi and (distance[U] + g[U][j] < distance[j])):\n",
    "            distance[j]=distance[U] + g[U][j]\n",
    "            parent[j] = U;\n",
    "            \n",
    "print(\"The shortest distance between a and z is {}\".format(distance[-1]))\n",
    "print(distance)"
   ]
  },
  {
   "cell_type": "code",
   "execution_count": null,
   "id": "3aa7166f",
   "metadata": {},
   "outputs": [],
   "source": []
  }
 ],
 "metadata": {
  "kernelspec": {
   "display_name": "Python 3",
   "language": "python",
   "name": "python3"
  },
  "language_info": {
   "codemirror_mode": {
    "name": "ipython",
    "version": 3
   },
   "file_extension": ".py",
   "mimetype": "text/x-python",
   "name": "python",
   "nbconvert_exporter": "python",
   "pygments_lexer": "ipython3",
   "version": "3.8.8"
  }
 },
 "nbformat": 4,
 "nbformat_minor": 5
}
